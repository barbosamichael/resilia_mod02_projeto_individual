{
 "cells": [
  {
   "cell_type": "markdown",
   "id": "968704b5",
   "metadata": {},
   "source": [
    "### Criar lista que armazena valores do desempenho dos candidatos"
   ]
  },
  {
   "cell_type": "markdown",
   "id": "c75526d7",
   "metadata": {},
   "source": [
    "eX= entrevista\n",
    "\ttX = teorico\n",
    "\tpX= pratico\n",
    "\tsX = soft"
   ]
  },
  {
   "cell_type": "code",
   "execution_count": 1,
   "id": "b0a46a80",
   "metadata": {},
   "outputs": [],
   "source": [
    "amostra = [[\"candidato01\",0,0,0,0],[\"canditado02\",1,2,3,4],[\"candidato03\",3,5,4,6]]"
   ]
  },
  {
   "cell_type": "code",
   "execution_count": 2,
   "id": "fd010116",
   "metadata": {},
   "outputs": [
    {
     "name": "stdout",
     "output_type": "stream",
     "text": [
      "range(0, 3)\n"
     ]
    }
   ],
   "source": [
    "print(range(len(amostra)))"
   ]
  },
  {
   "cell_type": "code",
   "execution_count": 3,
   "id": "f8695d44",
   "metadata": {},
   "outputs": [
    {
     "data": {
      "text/plain": [
       "3"
      ]
     },
     "execution_count": 3,
     "metadata": {},
     "output_type": "execute_result"
    }
   ],
   "source": [
    "amostra[2][1]"
   ]
  },
  {
   "cell_type": "code",
   "execution_count": 4,
   "id": "751fb159",
   "metadata": {},
   "outputs": [],
   "source": [
    "def busca_candidatos(amostra,x,t,p,s):\n",
    "    \n",
    "    temporaria = []\n",
    "    # tamanho da matriz amostra pode ser mutável\n",
    "    for i in range(len(amostra)):\n",
    "        # o j sempre é fixo pq temos 5 colunas sempre; nome,x,t,p e s.\n",
    "        for j in range(1,5): # começar em 1 até 4\n",
    "            # começa a varrer a matriz \n",
    "            print(\"matrizes\",amostra[i][j]) # print teste\n",
    "            if x>= amostra[i][j]:\n",
    "                print(\"valores_x\",amostra[i][j]) # print teste\n",
    "                continue\n",
    "            else:\n",
    "                break\n",
    "                if t>= amostra[i][j]:\n",
    "                    print(\"valores_t\",amostra[i][j]) # print teste\n",
    "                    continue\n",
    "                else:\n",
    "                    break\n",
    "                    if p>= amostra[i][j]:\n",
    "                        print(\"valores_p\",amostra[i][j]) # print teste\n",
    "                        continue\n",
    "                    else:\n",
    "                        break\n",
    "                        print(\"valores_s\",amostra[i][j]) # print teste\n",
    "                        if s>= amostra[i][j]:\n",
    "                            # chegando até aqui adiciona a posição correspondente da lista\n",
    "                            # na lista temporaria \n",
    "                            temporaria.append(amostra[i])\n",
    "                            print(amostra[i])\n",
    "                            # resultado da busca eh um subconjunto dos dados da matriz amostra\n",
    "                            return temporaria\n",
    "                        else:\n",
    "                            break\n",
    "            #else:\n",
    "            #   print(\"Para os valores digitados não temos correspondência.\")\n",
    "    "
   ]
  },
  {
   "cell_type": "code",
   "execution_count": 5,
   "id": "908fd45f",
   "metadata": {},
   "outputs": [],
   "source": [
    "amostra = [[\"candidato01\",0,0,0,0],[\"canditado02\",1,2,3,4],[\"candidato03\",3,5,4,6]]"
   ]
  },
  {
   "cell_type": "code",
   "execution_count": 11,
   "id": "3d961a79",
   "metadata": {},
   "outputs": [],
   "source": [
    "temp02=[[1,2,3],[9,8,5]]"
   ]
  },
  {
   "cell_type": "code",
   "execution_count": 19,
   "id": "296f81a3",
   "metadata": {},
   "outputs": [],
   "source": [
    "def busca_candidatos2(amostra,x,t,p,s):\n",
    "    \n",
    "    temp = []\n",
    "    # tamanho da matriz amostra pode ser mutável\n",
    "    for i in range(len(amostra)):       \n",
    "        count=0\n",
    "        print(count)\n",
    "        if x <= amostra[i][1]:\n",
    "            print(\"teste1\",amostra[i][1])  # print teste\n",
    "            \n",
    "            if t <= amostra[i][2]:               \n",
    "                print(\"teste2\",amostra[i][2])   # print teste\n",
    "                \n",
    "                if p <= amostra[i][3]:\n",
    "                    print(\"teste3\",amostra[i][3])  # print teste\n",
    "                    \n",
    "                    if s <= amostra[i][4]:\n",
    "                        \n",
    "                        temp.append(amostra[i][:])\n",
    "                        print(\"teste4\",amostra[i][4])  # print teste\n",
    "                        count= count+1\n",
    "    print(temp)\n",
    "    return temp"
   ]
  },
  {
   "cell_type": "code",
   "execution_count": 20,
   "id": "f6091fe4",
   "metadata": {
    "scrolled": false
   },
   "outputs": [
    {
     "name": "stdout",
     "output_type": "stream",
     "text": [
      "0\n",
      "0\n",
      "teste1 8\n",
      "teste2 9\n",
      "teste3 7\n",
      "0\n",
      "teste1 3\n",
      "teste2 5\n",
      "teste3 4\n",
      "teste4 6\n",
      "[['candidato03', 3, 5, 4, 6]]\n"
     ]
    },
    {
     "data": {
      "text/plain": [
       "[['candidato03', 3, 5, 4, 6]]"
      ]
     },
     "execution_count": 20,
     "metadata": {},
     "output_type": "execute_result"
    }
   ],
   "source": [
    "busca_candidatos2(amostra,1,2,3,4)"
   ]
  },
  {
   "cell_type": "code",
   "execution_count": null,
   "id": "5284ef9c",
   "metadata": {},
   "outputs": [],
   "source": []
  },
  {
   "cell_type": "code",
   "execution_count": 13,
   "id": "9bc39688",
   "metadata": {},
   "outputs": [],
   "source": [
    "\n",
    "def formatacao(candidato,x,t,p,s):\n",
    "    print(\"{0}: e{1}_t{2}_p{3}_s{4}\".format(candidato,x,t,p,s))"
   ]
  },
  {
   "cell_type": "code",
   "execution_count": 14,
   "id": "48678601",
   "metadata": {},
   "outputs": [
    {
     "name": "stdout",
     "output_type": "stream",
     "text": [
      "candidato01 e1_t2_p3_s4\n"
     ]
    }
   ],
   "source": [
    "formatacao(amostra[0][0],1,2,3,4)"
   ]
  },
  {
   "cell_type": "code",
   "execution_count": null,
   "id": "59398fcf",
   "metadata": {},
   "outputs": [],
   "source": []
  },
  {
   "cell_type": "code",
   "execution_count": null,
   "id": "a4e856fb",
   "metadata": {},
   "outputs": [],
   "source": []
  },
  {
   "cell_type": "code",
   "execution_count": null,
   "id": "97b63c69",
   "metadata": {},
   "outputs": [],
   "source": []
  }
 ],
 "metadata": {
  "kernelspec": {
   "display_name": "Python 3 (ipykernel)",
   "language": "python",
   "name": "python3"
  },
  "language_info": {
   "codemirror_mode": {
    "name": "ipython",
    "version": 3
   },
   "file_extension": ".py",
   "mimetype": "text/x-python",
   "name": "python",
   "nbconvert_exporter": "python",
   "pygments_lexer": "ipython3",
   "version": "3.9.12"
  }
 },
 "nbformat": 4,
 "nbformat_minor": 5
}
