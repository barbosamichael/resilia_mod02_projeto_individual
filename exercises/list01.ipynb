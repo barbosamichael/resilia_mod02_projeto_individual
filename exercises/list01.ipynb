{
 "cells": [
  {
   "cell_type": "markdown",
   "id": "167ce0af",
   "metadata": {},
   "source": [
    "01)\n",
    "\n",
    "Temas: Python, Listas, Saída de dados, Estruturas de repetição\n",
    "\n",
    "Classificação: Intermediário\n",
    "\n",
    "O que é para fazer:\n",
    "\n",
    "Crie uma fila de espera com os nomes de cinco pessoas e execute as seguintes operações: \n",
    "\n",
    "1-Imprima na tela a fila atual. \n",
    "\n",
    "2-Remova o primeiro elemento da fila e imprima na tela a fila atualizada. \n",
    "\n",
    "3-Adicione mais dois nomes à fila e imprima na tela a fila atualizada.\n",
    "\n",
    "Como Fazer:\n",
    "\n",
    "Crie uma lista com cinco nomes de pessoas, que representará a fila de espera;\n",
    "\n",
    "Utilize a função print() para imprimir na tela a fila atual;\n",
    "\n",
    "Utilize o método pop(0) para remover o primeiro elemento da lista;\n",
    "\n",
    "Utilize novamente a função print() para imprimir a fila atualizada;\n",
    "\n",
    "Utilize o método append() para adicionar dois novos nomes à lista;\n",
    "\n",
    "Novamente, utilize a função print() para imprimir a fila atualizada."
   ]
  },
  {
   "cell_type": "markdown",
   "id": "35f307c8",
   "metadata": {},
   "source": [
    "01) Temas: Python, Listas, Saída de dados, Estruturas de repetição\n",
    "\n",
    "Classificação: Intermediário\n",
    "\n",
    "O que é para fazer:\n",
    "\n",
    "Crie uma fila de espera com os nomes de cinco pessoas e execute as seguintes operações: \n",
    "\n",
    "1-Imprima na tela a fila atual. \n",
    "\n",
    "2-Remova o primeiro elemento da fila e imprima na tela a fila atualizada. \n",
    "\n",
    "3-Adicione mais dois nomes à fila e imprima na tela a fila atualizada.\n",
    "\n",
    "Como Fazer:\n",
    "\n",
    "Crie uma lista com cinco nomes de pessoas, que representará a fila de espera;\n",
    "\n",
    "Utilize a função print() para imprimir na tela a fila atual;\n",
    "\n",
    "Utilize o método pop(0) para remover o primeiro elemento da lista;\n",
    "\n",
    "Utilize novamente a função print() para imprimir a fila atualizada;\n",
    "\n",
    "Utilize o método append() para adicionar dois novos nomes à lista;\n",
    "\n",
    "Novamente, utilize a função print() para imprimir a fila atualizada.\n",
    "\n",
    "\n"
   ]
  },
  {
   "cell_type": "code",
   "execution_count": null,
   "id": "c2410b8c",
   "metadata": {},
   "outputs": [],
   "source": [
    "list01 = [\"Maria\",\"João\",\"Josefina\",\"Aristarco\",\"Cleo\"]\n",
    "print(list01)\n",
    "\n",
    "list01.pop(0)\n",
    "print(list01)\n",
    "\n",
    "#print(list01)\n",
    "list01.append(\"Emmanuel\")\n",
    "list01.append(\"Pierre\")\n",
    "print(list01)"
   ]
  },
  {
   "cell_type": "markdown",
   "id": "cffbb77e",
   "metadata": {},
   "source": []
  },
  {
   "cell_type": "markdown",
   "id": "d034e5af",
   "metadata": {},
   "source": [
    "lista01 = [\"Maria\",\"João\",\"Josefina\",\"Aristarco\",\"Cleo\"]\n",
    "print(lista01)"
   ]
  },
  {
   "cell_type": "markdown",
   "id": "3a1ea8e5",
   "metadata": {},
   "source": [
    "print(lista01)\n",
    "lista01.append(\"Emmanuel\")\n",
    "lista01.append(\"Pierre\")"
   ]
  },
  {
   "cell_type": "markdown",
   "id": "112b2ca4",
   "metadata": {},
   "source": [
    "lista01.pop(0)\n",
    "print(lista01)"
   ]
  },
  {
   "cell_type": "markdown",
   "id": "c35759bb",
   "metadata": {},
   "source": [
    "print(lista01)"
   ]
  },
  {
   "cell_type": "markdown",
   "id": "b37f088e",
   "metadata": {},
   "source": []
  },
  {
   "cell_type": "markdown",
   "id": "3a406d8c",
   "metadata": {},
   "source": [
    "02) Temas: Python, Saída de dados, Listas\n",
    "\n",
    "Classificação: Intermediário\n",
    "\n",
    "O que é para fazer:\n",
    "\n",
    "Crie duas listas de tamanho igual com valores numéricos de sua escolha. Crie uma nova lista que seja a fusão das duas primeiras, de forma que os elementos sejam intercalados. Por fim, imprima a nova lista na tela.\n",
    "\n",
    "Como Fazer:\n",
    "\n",
    "Crie duas listas de tamanho igual com valores numéricos de sua escolha;\n",
    "\n",
    "Crie uma nova lista vazia para armazenar a fusão das duas primeiras;\n",
    "\n",
    "Utilize um laço de repetição para percorrer todos os índices das listas originais;\n",
    "\n",
    "Para cada índice, adicione o elemento da primeira lista na nova lista e, em seguida, adicione o elemento correspondente da segunda lista na nova lista;\n",
    "\n",
    "Se as listas originais possuem tamanhos diferentes, adicione os elementos restantes da lista maior no final da nova lista;\n",
    "\n",
    "Imprima a nova lista na tela."
   ]
  },
  {
   "cell_type": "code",
   "execution_count": 13,
   "id": "3e33ba4b",
   "metadata": {},
   "outputs": [
    {
     "name": "stdout",
     "output_type": "stream",
     "text": [
      "[1, 2, 3, 4, 5, 6, 7, 8, 9, 10, 11, 12, 13, 14, 15, 16, 17, 18, 19, 20]\n"
     ]
    }
   ],
   "source": [
    "list01= [i for i in range(1,11)]\n",
    "list02=[j for j in range(11,21)]\n",
    "list03=[]\n",
    "\n",
    "for k in list01:\n",
    "    list03.append(k)\n",
    "for l in list02:\n",
    "    list03.append(l)\n",
    "\n",
    "print(list03)"
   ]
  },
  {
   "cell_type": "markdown",
   "id": "673a9a7d",
   "metadata": {},
   "source": []
  },
  {
   "cell_type": "markdown",
   "id": "6becd755",
   "metadata": {},
   "source": [
    "list01= [i for i in range(1,11)]"
   ]
  },
  {
   "cell_type": "markdown",
   "id": "057ded2c",
   "metadata": {},
   "source": [
    "list01"
   ]
  },
  {
   "cell_type": "markdown",
   "id": "9bfca967",
   "metadata": {},
   "source": [
    "list02=[j for j in range(11,21)]"
   ]
  },
  {
   "cell_type": "markdown",
   "id": "a67bfe3f",
   "metadata": {},
   "source": [
    "list02"
   ]
  },
  {
   "cell_type": "markdown",
   "id": "6f205805",
   "metadata": {},
   "source": [
    "list03=[]\n",
    "for k in list01:\n",
    "    list03.append(k)\n",
    "for l in list02:\n",
    "    list03.append(l)"
   ]
  },
  {
   "cell_type": "markdown",
   "id": "530ca2b4",
   "metadata": {},
   "source": [
    "list03"
   ]
  },
  {
   "cell_type": "markdown",
   "id": "12c9f789",
   "metadata": {},
   "source": [
    "print(list03)"
   ]
  },
  {
   "cell_type": "markdown",
   "id": "ecb90888",
   "metadata": {},
   "source": []
  },
  {
   "cell_type": "code",
   "execution_count": null,
   "id": "b800d614",
   "metadata": {},
   "outputs": [],
   "source": []
  },
  {
   "cell_type": "markdown",
   "id": "b6091017",
   "metadata": {},
   "source": [
    "3)\n",
    "Temas: Python, Saída de dados, Listas\n",
    "\n",
    "Classificação: Iniciante\n",
    "\n",
    "O que é para fazer:\n",
    "\n",
    "Crie uma lista com 5 números inteiros de sua escolha e calcule a soma desses valores. Imprima o resultado da soma na tela.\n",
    "\n",
    "Como Fazer:\n",
    "\n",
    "Crie uma lista com 5 números inteiros de sua escolha;\n",
    "\n",
    "Declare uma variável para armazenar a soma dos valores da lista;\n",
    "\n",
    "Utilize um laço de repetição para percorrer todos os elementos da lista e ir somando seus valores na variável criada no passo anterior;\n",
    "\n",
    "Imprima o resultado da soma na tela."
   ]
  },
  {
   "cell_type": "code",
   "execution_count": 25,
   "id": "07b46526",
   "metadata": {},
   "outputs": [
    {
     "name": "stdout",
     "output_type": "stream",
     "text": [
      "160\n"
     ]
    }
   ],
   "source": [
    "list01=[i for i in range(30,35)]\n",
    "\n",
    "soma=0\n",
    "for j in list01:\n",
    "    soma+=j\n",
    "    \n",
    "print(soma)"
   ]
  },
  {
   "cell_type": "markdown",
   "id": "d2cff3aa",
   "metadata": {},
   "source": []
  },
  {
   "cell_type": "markdown",
   "id": "afc8adaa",
   "metadata": {},
   "source": []
  },
  {
   "cell_type": "markdown",
   "id": "904e18da",
   "metadata": {},
   "source": [
    "4)\n",
    "Temas: Saída de dados, Python, Filas\n",
    "\n",
    "Classificação: Avançado\n",
    "\n",
    "O que é para fazer:\n",
    "\n",
    "Crie uma tupla com 5 elementos e realize as seguintes operações: <ul><li>1-Imprima na tela o tamanho da tupla;</li><li>2-Crie uma nova tupla que contenha os elementos da tupla original em ordem reversa;</li><li>3-Imprima na tela os elementos da nova tupla separados por \"\"-\"\".</li></ul>\n",
    "\n",
    "Como Fazer:\n",
    "\n",
    "Crie uma tupla com 5 elementos de sua escolha;\n",
    "\n",
    "Utilize a função len() para imprimir na tela o tamanho da tupla;\n",
    "\n",
    "Crie uma nova tupla que contenha os elementos da tupla original em ordem reversa, utilizando o fatiamento com parâmetro -1;\n",
    "\n",
    "Utilize o método join() para imprimir na tela os elementos da nova tupla, separados por \"\"-\"\"."
   ]
  },
  {
   "cell_type": "code",
   "execution_count": 104,
   "id": "39fad07c",
   "metadata": {},
   "outputs": [
    {
     "name": "stdout",
     "output_type": "stream",
     "text": [
      "5\n",
      "antonio-pedro-francisco-joão-maria\n"
     ]
    }
   ],
   "source": [
    "tupla01=(\"maria\", \"joão\",\"francisco\",\"pedro\",\"antonio\")\n",
    "\n",
    "print(len(tupla01))\n",
    "\n",
    "tupla02 = tupla01[::-1]\n",
    "\n",
    "tupla03= \"-\".join(tupla02)\n",
    "\n",
    "print(tupla03)"
   ]
  },
  {
   "cell_type": "markdown",
   "id": "7d7f0a30",
   "metadata": {},
   "source": [
    "tupla02 = tupla01[::-1]"
   ]
  },
  {
   "cell_type": "markdown",
   "id": "6afacb94",
   "metadata": {},
   "source": [
    "tupla02"
   ]
  },
  {
   "cell_type": "markdown",
   "id": "6d6fc052",
   "metadata": {},
   "source": [
    "tupla03= \"-\".join(tupla02)\n",
    "tupla03"
   ]
  },
  {
   "cell_type": "markdown",
   "id": "e2099020",
   "metadata": {},
   "source": [
    "myTuple = (\"John\", \"Peter\", \"Vicky\")\n",
    "\n",
    "x = \"#\".join(myTuple)\n",
    "\n",
    "print(x)\n"
   ]
  },
  {
   "cell_type": "code",
   "execution_count": null,
   "id": "df57aa46",
   "metadata": {},
   "outputs": [],
   "source": []
  },
  {
   "cell_type": "code",
   "execution_count": null,
   "id": "0422b04b",
   "metadata": {},
   "outputs": [],
   "source": []
  },
  {
   "cell_type": "markdown",
   "id": "b3ef4e9c",
   "metadata": {},
   "source": [
    "Temas: Tuplas, Saída de dados, Python\n",
    "\n",
    "Classificação: Iniciante\n",
    "\n",
    "O que é para fazer:\n",
    "\n",
    "Crie uma lista com 6 elementos e utilize o fatiamento para imprimir na tela as seguintes sub-listas: os três primeiros elementos, os três últimos elementos e uma sub-lista com o segundo e o terceiro elemento.\n",
    "\n",
    "Como Fazer:\n",
    "\n",
    "Crie uma lista com 6 elementos de sua escolha.\n",
    "\n",
    "Utilize o fatiamento para imprimir na tela os três primeiros elementos da lista.\n",
    "\n",
    "Utilize o fatiamento para imprimir na tela os três últimos elementos da lista.\n",
    "\n",
    "Utilize o fatiamento para imprimir na tela uma sub-lista com o segundo e o terceiro elementos da lista."
   ]
  },
  {
   "cell_type": "code",
   "execution_count": 145,
   "id": "f2e02305",
   "metadata": {},
   "outputs": [
    {
     "name": "stdout",
     "output_type": "stream",
     "text": [
      "['abacate', 'laranja', 'limão']\n",
      "['acerola', 'cenoura', 'manga']\n",
      "['laranja', 'limão']\n"
     ]
    }
   ],
   "source": [
    "list01=[\"abacate\",\"laranja\",\"limão\",\"acerola\",\"cenoura\",\"manga\"]\n",
    "\n",
    "list02=list01[:3]\n",
    "print(list02)\n",
    "\n",
    "list03=list01[-3:]\n",
    "print(list03)\n",
    "\n",
    "sub_lista=[list01[1],list01[2]]\n",
    "print(sub_lista)\n"
   ]
  },
  {
   "cell_type": "code",
   "execution_count": null,
   "id": "0e554799",
   "metadata": {},
   "outputs": [],
   "source": []
  }
 ],
 "metadata": {
  "kernelspec": {
   "display_name": "Python 3 (ipykernel)",
   "language": "python",
   "name": "python3"
  },
  "language_info": {
   "codemirror_mode": {
    "name": "ipython",
    "version": 3
   },
   "file_extension": ".py",
   "mimetype": "text/x-python",
   "name": "python",
   "nbconvert_exporter": "python",
   "pygments_lexer": "ipython3",
   "version": "3.9.12"
  }
 },
 "nbformat": 4,
 "nbformat_minor": 5
}
