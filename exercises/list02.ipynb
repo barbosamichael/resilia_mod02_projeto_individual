{
 "cells": [
  {
   "cell_type": "markdown",
   "id": "73175b7c",
   "metadata": {},
   "source": [
    "\n",
    "1) Temas: Filas, Saída de dados, Python\n",
    "\n",
    "Classificação: Intermediário\n",
    "\n",
    "O que é para fazer:\n",
    "\n",
    "Crie uma fila de espera com os nomes de cinco pessoas e execute as seguintes operações: <ul><li>1-Imprima na tela a fila atual.</li><li>2-Remova o primeiro elemento da fila e imprima na tela a fila atualizada.</li><li>3-Adicione mais dois nomes à fila e imprima na tela a fila atualizada.</li></ul>\n",
    "\n",
    "Como Fazer:\n",
    "\n",
    "Crie uma lista com cinco nomes de pessoas, que representará a fila de espera;\n",
    "\n",
    "Utilize a função print() para imprimir na tela a fila atual;\n",
    "\n",
    "Utilize o método pop(0) para remover o primeiro elemento da lista;\n",
    "\n",
    "Utilize novamente a função print() para imprimir a fila atualizada;\n",
    "\n",
    "Utilize o método append() para adicionar dois novos nomes à lista;\n",
    "\n",
    "Novamente, utilize a função print() para imprimir a fila atualizada."
   ]
  },
  {
   "cell_type": "code",
   "execution_count": null,
   "id": "0308bee3",
   "metadata": {},
   "outputs": [],
   "source": []
  },
  {
   "cell_type": "code",
   "execution_count": null,
   "id": "8dc1964d",
   "metadata": {},
   "outputs": [],
   "source": []
  },
  {
   "cell_type": "code",
   "execution_count": null,
   "id": "0755f036",
   "metadata": {},
   "outputs": [],
   "source": []
  },
  {
   "cell_type": "code",
   "execution_count": null,
   "id": "6cea6e3e",
   "metadata": {},
   "outputs": [],
   "source": []
  },
  {
   "cell_type": "code",
   "execution_count": null,
   "id": "5df0351c",
   "metadata": {},
   "outputs": [],
   "source": []
  },
  {
   "cell_type": "code",
   "execution_count": null,
   "id": "8fdd5d05",
   "metadata": {},
   "outputs": [],
   "source": []
  },
  {
   "cell_type": "code",
   "execution_count": null,
   "id": "ec747026",
   "metadata": {},
   "outputs": [],
   "source": []
  }
 ],
 "metadata": {
  "kernelspec": {
   "display_name": "Python 3 (ipykernel)",
   "language": "python",
   "name": "python3"
  },
  "language_info": {
   "codemirror_mode": {
    "name": "ipython",
    "version": 3
   },
   "file_extension": ".py",
   "mimetype": "text/x-python",
   "name": "python",
   "nbconvert_exporter": "python",
   "pygments_lexer": "ipython3",
   "version": "3.9.12"
  }
 },
 "nbformat": 4,
 "nbformat_minor": 5
}
