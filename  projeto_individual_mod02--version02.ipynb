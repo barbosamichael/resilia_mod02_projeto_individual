{
 "cells": [
  {
   "cell_type": "markdown",
   "id": "87e75507",
   "metadata": {},
   "source": [
    "### Criar lista que armazena valores do desempenho dos candidatos\n"
   ]
  },
  {
   "cell_type": "markdown",
   "id": "19494b98",
   "metadata": {},
   "source": [
    "eX= entrevista\n",
    "\ttX = teorico\n",
    "\tpX= pratico\n",
    "\tsX = soft"
   ]
  },
  {
   "cell_type": "code",
   "execution_count": 1,
   "id": "8024a187",
   "metadata": {},
   "outputs": [],
   "source": [
    "amostra = [[\"candidato01\",0,0,0,0],[\"canditado02\",1,2,3,4],[\"candidato03\",3,5,4,6],\n",
    "           [\"pedro\",2,3,4,5],[\"maria\",1,3,5,7],[\"antonio\",3,5,7,8],[\"joaquim\",6,7,8,9],\n",
    "           [\"francisca\",7,8,8,9],[\"aristarco\",9,8,7,6],[\"flavia\",9,8,8,7],\n",
    "           [\"ferdinando\",3,4,7,7],[\"andreia\",7,6,8,9],[\"antonieta\",10,10,10,10]]"
   ]
  },
  {
   "cell_type": "code",
   "execution_count": 2,
   "id": "3026f126",
   "metadata": {},
   "outputs": [],
   "source": [
    "def formatacao(candidato,e,t,p,s):\n",
    "    print(\"{0}: e{1}_t{2}_p{3}_s{4}\".format(candidato,e,t,p,s))"
   ]
  },
  {
   "cell_type": "code",
   "execution_count": 3,
   "id": "76c9be6b",
   "metadata": {},
   "outputs": [],
   "source": [
    "def busca_candidatos2(amostra,e,t,p,s):\n",
    "    temp = []\n",
    "    # tamanho da matriz amostra pode ser mutável\n",
    "    for i in range(len(amostra)):       \n",
    "        count=0\n",
    "        #print(count)\n",
    "        if e <= amostra[i][1]:\n",
    "            #print(\"teste1\",amostra[i][1])  # print teste            \n",
    "            if t <= amostra[i][2]:               \n",
    "                #print(\"teste2\",amostra[i][2])   # print teste                \n",
    "                if p <= amostra[i][3]:\n",
    "                    #print(\"teste3\",amostra[i][3])  # print teste                    \n",
    "                    if s <= amostra[i][4]:\n",
    "                        temp.append(amostra[i][:])\n",
    "                        #print(\"teste4\",amostra[i][4])  # print teste\n",
    "                        count= count+1\n",
    "                        formatacao(amostra[i][0],amostra[i][1],amostra[i][2],amostra[i][3],amostra[i][4])\n",
    "    #print(temp)    \n",
    "    return temp"
   ]
  },
  {
   "cell_type": "code",
   "execution_count": 4,
   "id": "e125819d",
   "metadata": {},
   "outputs": [],
   "source": [
    "def prints_tela_inicial():\n",
    "    print(\"\\nBem vindo ao sistema RH Consulta\")\n",
    "    print(\"\\nSelecione uma opção:\")\n",
    "    print(\"\\n1 - Cadastrar usuário\")\n",
    "    print(\"2 - Consultar notas\")\n",
    "    print(\"3 - Encerrar atendimento\")\n",
    "    entrada_inicial=int(input(\"Selecione uma opção: \"))\n",
    "    return entrada_inicial\n"
   ]
  },
  {
   "cell_type": "code",
   "execution_count": 5,
   "id": "3eceb4f1",
   "metadata": {},
   "outputs": [],
   "source": [
    "def main():    \n",
    "    # armazena a escolha uma variável\n",
    "    entrada_inicial = prints_tela_inicial()\n",
    "    user_option=0\n",
    "    \n",
    "    if entrada_inicial == 3:\n",
    "        print(\"Obrigado e volte sempre!\")\n",
    "        return \n",
    "\n",
    "    while entrada_inicial == 1 and user_option != 3:\n",
    "        if entrada_inicial == 1:\n",
    "            print(\"Digite  as informações pediddas abaixo\")\n",
    "            nome=str(input(\"Nome: \"))\n",
    "            e=int(input(\"Entrevista: \"))\n",
    "            t=int(input(\"Teórico: \"))\n",
    "            p=int(input(\"Prático: \"))\n",
    "            s=int(input(\"Soft Skills: \"))\n",
    "            # adicionar novo usuário a variável amostra\n",
    "            amostra.append([nome,e,t,p,s])\n",
    "            print(\"\\nCadastrado(a) com sucesso!!!\")\n",
    "        print(\"\\n3 - Encerrar\")\n",
    "        print(\"5 - Para retornar ao menu inicial\")\n",
    "        user_option = int(input(\"Digite uma opção: \"))\n",
    "        if user_option == 5:\n",
    "        # volta para o inicio chamando main()\n",
    "        # funciona bem hehehe\n",
    "            entrada_inicial=0\n",
    "            user_option=3\n",
    "            main()                \n",
    "    #consultar notas            \n",
    "    if entrada_inicial == 2:\n",
    "        print(\"\\nDigite o valor de corte das notas ;)\")\n",
    "        e=int(input(\"Entrevista: \"))\n",
    "        t=int(input(\"Teórico: \"))\n",
    "        p=int(input(\"Prático: \"))\n",
    "        s=int(input(\"Soft Skills: \"))\n",
    "        print(\"*\"*10,\"Resultados obtidos\",\"*\"*10)\n",
    "        busca_candidatos2(amostra,e,t,p,s)\n",
    "        main()\n",
    "        "
   ]
  },
  {
   "cell_type": "code",
   "execution_count": null,
   "id": "5dfb05e3",
   "metadata": {},
   "outputs": [],
   "source": [
    "main()"
   ]
  },
  {
   "cell_type": "code",
   "execution_count": null,
   "id": "f3f73042",
   "metadata": {},
   "outputs": [],
   "source": []
  }
 ],
 "metadata": {
  "kernelspec": {
   "display_name": "Python 3 (ipykernel)",
   "language": "python",
   "name": "python3"
  },
  "language_info": {
   "codemirror_mode": {
    "name": "ipython",
    "version": 3
   },
   "file_extension": ".py",
   "mimetype": "text/x-python",
   "name": "python",
   "nbconvert_exporter": "python",
   "pygments_lexer": "ipython3",
   "version": "3.9.12"
  }
 },
 "nbformat": 4,
 "nbformat_minor": 5
}
